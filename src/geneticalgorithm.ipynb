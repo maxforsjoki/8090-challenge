{
 "cells": [
  {
   "cell_type": "code",
   "execution_count": 11,
   "metadata": {},
   "outputs": [],
   "source": [
    "import pandas as pd\n",
    "import numpy as np\n",
    "import json\n",
    "from gplearn.genetic import SymbolicRegressor\n",
    "from gplearn.functions import make_function"
   ]
  },
  {
   "cell_type": "code",
   "execution_count": 12,
   "metadata": {},
   "outputs": [],
   "source": [
    "#Reading data\n",
    "filepth = \"../public_cases.json\"\n",
    "with open(filepth, 'r') as f:\n",
    "    data = json.load(f)\n",
    "df = pd.json_normalize(data)\n",
    "df.columns = df.columns.str.replace('input.', '', regex=False)"
   ]
  },
  {
   "cell_type": "code",
   "execution_count": 13,
   "metadata": {},
   "outputs": [],
   "source": [
    "#Creating y, X, train test split etc\n",
    "X = df[['miles_traveled', 'total_receipts_amount', 'trip_duration_days']]\n",
    "y = df['expected_output']\n",
    "\n",
    "# Feature names are now simple and intuitive\n",
    "feature_names = X.columns.tolist()"
   ]
  },
  {
   "cell_type": "code",
   "execution_count": 14,
   "metadata": {},
   "outputs": [
    {
     "name": "stdout",
     "output_type": "stream",
     "text": [
      "Starting training with corrected numerical 'days' feature...\n"
     ]
    },
    {
     "ename": "AttributeError",
     "evalue": "'SymbolicRegressor' object has no attribute '_validate_data'",
     "output_type": "error",
     "traceback": [
      "\u001b[31m---------------------------------------------------------------------------\u001b[39m",
      "\u001b[31mAttributeError\u001b[39m                            Traceback (most recent call last)",
      "\u001b[36mCell\u001b[39m\u001b[36m \u001b[39m\u001b[32mIn[14]\u001b[39m\u001b[32m, line 17\u001b[39m\n\u001b[32m      5\u001b[39m est = SymbolicRegressor(\n\u001b[32m      6\u001b[39m     population_size=\u001b[32m1000\u001b[39m,\n\u001b[32m      7\u001b[39m     generations=\u001b[32m20\u001b[39m,\n\u001b[32m   (...)\u001b[39m\u001b[32m     13\u001b[39m     parsimony_coefficient=\u001b[32m0.001\u001b[39m\n\u001b[32m     14\u001b[39m )\n\u001b[32m     16\u001b[39m \u001b[38;5;28mprint\u001b[39m(\u001b[33m\"\u001b[39m\u001b[33mStarting training with corrected numerical \u001b[39m\u001b[33m'\u001b[39m\u001b[33mdays\u001b[39m\u001b[33m'\u001b[39m\u001b[33m feature...\u001b[39m\u001b[33m\"\u001b[39m)\n\u001b[32m---> \u001b[39m\u001b[32m17\u001b[39m \u001b[43mest\u001b[49m\u001b[43m.\u001b[49m\u001b[43mfit\u001b[49m\u001b[43m(\u001b[49m\u001b[43mX\u001b[49m\u001b[43m,\u001b[49m\u001b[43m \u001b[49m\u001b[43my\u001b[49m\u001b[43m)\u001b[49m\n\u001b[32m     18\u001b[39m \u001b[38;5;28mprint\u001b[39m(\u001b[33m\"\u001b[39m\u001b[33mTraining complete.\u001b[39m\u001b[33m\"\u001b[39m)\n\u001b[32m     20\u001b[39m \u001b[38;5;66;03m# --- 3. View the Result ---\u001b[39;00m\n",
      "\u001b[36mFile \u001b[39m\u001b[32m~/Code/Projects2025/gplearn_env/lib/python3.13/site-packages/gplearn/genetic.py:312\u001b[39m, in \u001b[36mBaseSymbolic.fit\u001b[39m\u001b[34m(self, X, y, sample_weight)\u001b[39m\n\u001b[32m    309\u001b[39m     \u001b[38;5;28mself\u001b[39m.n_classes_ = \u001b[38;5;28mlen\u001b[39m(\u001b[38;5;28mself\u001b[39m.classes_)\n\u001b[32m    311\u001b[39m \u001b[38;5;28;01melse\u001b[39;00m:\n\u001b[32m--> \u001b[39m\u001b[32m312\u001b[39m     X, y = \u001b[38;5;28;43mself\u001b[39;49m\u001b[43m.\u001b[49m\u001b[43m_validate_data\u001b[49m(X, y, y_numeric=\u001b[38;5;28;01mTrue\u001b[39;00m)\n\u001b[32m    314\u001b[39m hall_of_fame = \u001b[38;5;28mself\u001b[39m.hall_of_fame\n\u001b[32m    315\u001b[39m \u001b[38;5;28;01mif\u001b[39;00m hall_of_fame \u001b[38;5;129;01mis\u001b[39;00m \u001b[38;5;28;01mNone\u001b[39;00m:\n",
      "\u001b[31mAttributeError\u001b[39m: 'SymbolicRegressor' object has no attribute '_validate_data'"
     ]
    }
   ],
   "source": [
    "# --- 2. Setup and Run SymbolicRegressor (Now with simpler inputs) ---\n",
    "\n",
    "function_set = ['add', 'sub', 'mul', 'div', 'sqrt', 'log', 'sin', 'cos']\n",
    "\n",
    "est = SymbolicRegressor(\n",
    "    population_size=1000,\n",
    "    generations=20,\n",
    "    stopping_criteria=0.01,\n",
    "    function_set=function_set,\n",
    "    feature_names=feature_names, # Now much cleaner: ['float_column2', 'integer_column', 'days_column']\n",
    "    verbose=1,\n",
    "    random_state=42,\n",
    "    parsimony_coefficient=0.001\n",
    ")\n",
    "\n",
    "print(\"Starting training with corrected numerical 'days' feature...\")\n",
    "est.fit(X, y)\n",
    "print(\"Training complete.\")\n",
    "\n",
    "# --- 3. View the Result ---\n",
    "print(\"\\nBest formula found:\")\n",
    "print(est._program)"
   ]
  },
  {
   "cell_type": "code",
   "execution_count": null,
   "metadata": {},
   "outputs": [],
   "source": []
  }
 ],
 "metadata": {
  "kernelspec": {
   "display_name": "myenv",
   "language": "python",
   "name": "python3"
  },
  "language_info": {
   "codemirror_mode": {
    "name": "ipython",
    "version": 3
   },
   "file_extension": ".py",
   "mimetype": "text/x-python",
   "name": "python",
   "nbconvert_exporter": "python",
   "pygments_lexer": "ipython3",
   "version": "3.10.17"
  },
  "orig_nbformat": 4
 },
 "nbformat": 4,
 "nbformat_minor": 2
}
